{
  "nbformat": 4,
  "nbformat_minor": 0,
  "metadata": {
    "colab": {
      "private_outputs": true,
      "provenance": []
    },
    "kernelspec": {
      "name": "python3",
      "display_name": "Python 3"
    },
    "language_info": {
      "name": "python"
    }
  },
  "cells": [
    {
      "cell_type": "code",
      "execution_count": null,
      "metadata": {
        "id": "Eq3HZmdn2L90"
      },
      "outputs": [],
      "source": [
        "import pandas as pd  # For data handling (creating and manipulating dataframes)\n",
        "import matplotlib.pyplot as plt  # For data visualization (creating plots)\n",
        "import seaborn as sns  # For statistical visualization (creating attractive plots)\n",
        "import geopandas as gpd  # For geospatial analysis (working with maps and location-based data)\n",
        "import networkx as nx  # For graph-based route optimization (finding shortest paths)\n",
        "import numpy as np  # For numerical computations (mathematical operations)\n",
        "from prophet import Prophet  # For time series forecasting (predicting future trends)\n",
        "from sklearn.ensemble import IsolationForest  # For anomaly detection (fraud detection)\n",
        "from sklearn.cluster import KMeans  # For customer segmentation (clustering)\n",
        "from sklearn.linear_model import LogisticRegression  # For churn prediction (classification)\n",
        "from scipy.optimize import linprog  # For optimization (cost reduction)"
      ]
    },
    {
      "cell_type": "code",
      "source": [
        "# Load Data\n",
        "df = pd.read_csv(\"/content/fedex.csv\")  # Load dataset from CSV file\n"
      ],
      "metadata": {
        "id": "U1lyJD6n2T3s"
      },
      "execution_count": null,
      "outputs": []
    },
    {
      "cell_type": "code",
      "source": [
        "# Display first few rows\n",
        "print(\"Initial Data Preview:\\n\", df.head())  # Print the first 5 rows to understand the data structure"
      ],
      "metadata": {
        "id": "tknE6FQs2b0e"
      },
      "execution_count": null,
      "outputs": []
    },
    {
      "cell_type": "code",
      "source": [
        "# Rename Columns for better readability\n",
        "df.rename(columns={'old_col1': 'new_col1', 'old_col2': 'new_col2'}, inplace=True)  # Rename columns for clarity"
      ],
      "metadata": {
        "id": "VDJPb-bG2eT0"
      },
      "execution_count": null,
      "outputs": []
    },
    {
      "cell_type": "code",
      "source": [
        "print(df.columns)  # Print the exact column names to verify themprint(df.columns)  # Yeh batayega ke columns ka exact naam kya hai\n"
      ],
      "metadata": {
        "id": "y6-i0sAz3huW"
      },
      "execution_count": null,
      "outputs": []
    },
    {
      "cell_type": "code",
      "source": [
        "# Ensure Year, Month, and DayofMonth are integers and handle missing values\n",
        "df['Year'] = df['Year'].astype(int)  # Convert 'Year' column to integer\n",
        "df['Month'] = df['Month'].astype(int)  # Convert 'Month' column to integer\n",
        "df['DayofMonth'] = df['DayofMonth'].fillna(1).astype(int)  # Replace missing values with 1 and convert to integer"
      ],
      "metadata": {
        "id": "0W-KtqYI2ge8"
      },
      "execution_count": null,
      "outputs": []
    },
    {
      "cell_type": "code",
      "source": [
        "# Convert Year, Month, DayofMonth into a proper Date column using apply()\n",
        "df['Date'] = pd.to_datetime(df.apply(lambda row: f\"{row['Year']}-{row['Month']:02d}-{row['DayofMonth']:02d}\", axis=1), errors='coerce')  # Create a 'Date' column by combining Year, Month, and DayofMonth# Convert Year, Month, DayofMonth into a proper Date column using apply()\n",
        "df['Date'] = pd.to_datetime(df.apply(lambda row: f\"{row['Year']}-{row['Month']:02d}-{row['DayofMonth']:02d}\", axis=1), errors='coerce')"
      ],
      "metadata": {
        "id": "6J0uUWjn427S"
      },
      "execution_count": null,
      "outputs": []
    },
    {
      "cell_type": "code",
      "source": [
        "# Extract Month in 'YYYY-MM' format for monthly trend analysis\n",
        "df['Month'] = df['Date'].dt.to_period('M')  # Convert 'Date' to 'YYYY-MM' format for monthly analysis"
      ],
      "metadata": {
        "id": "9n8jNvPX2h8s"
      },
      "execution_count": null,
      "outputs": []
    },
    {
      "cell_type": "code",
      "source": [
        "# Check final dataframe\n",
        "print(df[['Year', 'Month', 'DayofMonth', 'Date']].head())  # Print the first 5 rows of selected columns to verify the transformations"
      ],
      "metadata": {
        "id": "UI0IgE6b5Oiw"
      },
      "execution_count": null,
      "outputs": []
    },
    {
      "cell_type": "code",
      "source": [
        "# Monthly Shipment Delay Trend Analysis\n",
        "\n",
        "# Step 1: Set the figure size for the plot\n",
        "plt.figure(figsize=(12, 6))  # Create a figure with a specific size (12x6 inches)\n",
        "\n",
        "# Step 2: Group shipment delay by month and calculate the total delay per month\n",
        "monthly_delay = df.groupby('Month')['Shipment_Delay'].sum().reset_index()  # Group by 'Month' and sum 'Shipment_Delay'\n",
        "\n",
        "# Step 3: Convert 'Shipment_Delay' to numeric (in case it contains non-numeric values)\n",
        "monthly_delay['Shipment_Delay'] = pd.to_numeric(monthly_delay['Shipment_Delay'], errors='coerce')  # Convert to numeric, coercing errors to NaN\n",
        "\n",
        "# Step 4: Handle missing values in 'Shipment_Delay' (replace NaN with 0)\n",
        "monthly_delay['Shipment_Delay'] = monthly_delay['Shipment_Delay'].fillna(0)  # Fill missing values with 0\n",
        "\n",
        "# Step 5: Ensure 'Month' is in a proper format (convert to string if needed)\n",
        "monthly_delay['Month'] = monthly_delay['Month'].astype(str)  # Convert 'Month' to string for proper plotting\n",
        "\n",
        "# Step 6: Plot the shipment delay trend using Seaborn\n",
        "sns.lineplot(data=monthly_delay, x='Month', y='Shipment_Delay')  # Create a line plot for monthly delay trend\n",
        "\n",
        "# Step 7: Set plot title and format x-axis\n",
        "plt.title(\"Month-on-Month Shipment Delay Trend\")  # Add a title to the plot\n",
        "plt.xticks(rotation=45)  # Rotate x-axis labels by 45 degrees for better readability\n",
        "plt.xlabel(\"Month\")  # Label for the x-axis\n",
        "plt.ylabel(\"Total Shipment Delay\")  # Label for the y-axis\n",
        "\n",
        "# Step 8: Display the plot\n",
        "plt.show()  # Show the plot"
      ],
      "metadata": {
        "id": "oSgRQtfO-K_Y"
      },
      "execution_count": null,
      "outputs": []
    },
    {
      "cell_type": "code",
      "source": [
        "# Top Routes Analysis\n",
        "# Step 1: Check column names to verify the correct column for counting orders\n",
        "print(\"Column Names in DataFrame:\\n\", df.columns)  # Print all column names in the DataFrame\n",
        "\n",
        "# Step 2: Group by Source and Destination, and count the number of orders per route\n",
        "# Replace 'Order_ID' with the correct column name (e.g., 'OrderID', 'OrderNumber', etc.)\n",
        "# If no order-specific column exists, use the row count as a proxy\n",
        "if 'Order_ID' in df.columns:\n",
        "    top_routes = df.groupby(['Source', 'Destination'])['Order_ID'].count().reset_index()  # Count orders per route\n",
        "    top_routes = top_routes.rename(columns={'Order_ID': 'OrderCount'})  # Rename the count column for clarity\n",
        "else:\n",
        "    top_routes = df.groupby(['Source', 'Destination']).size().reset_index(name='OrderCount')  # Use row count as a proxy\n",
        "\n",
        "# Step 3: Sort the routes by the number of orders in descending order and select the top 10\n",
        "top_routes = top_routes.sort_values(by='OrderCount', ascending=False).head(10)  # Select top 10 routes\n",
        "\n",
        "# Step 4: Display the top 10 most frequent routes\n",
        "print(\"Top 10 Most Frequent Routes:\\n\", top_routes)  # Print the top 10 routes\n",
        "\n",
        "# Optimal Route Suggestion using Efficiency Score\n",
        "# Step 1: Calculate the Efficiency Score (Distance / Time)\n",
        "# Ensure 'Distance' and 'Time' columns exist and are numeric\n",
        "if 'Distance' in df.columns and 'Time' in df.columns:\n",
        "    df['Efficiency_Score'] = df['Distance'] / df['Time']  # Lower score means better efficiency\n",
        "\n",
        "    # Step 2: Find the route with the minimum Efficiency Score (most efficient route)\n",
        "    best_route = df.loc[df['Efficiency_Score'].idxmin(), ['Source', 'Destination']]  # Find the most efficient route\n",
        "\n",
        "    # Step 3: Display the optimal route\n",
        "    print(\"Optimal Route:\", best_route)  # Print the most efficient route\n",
        "else:\n",
        "    print(\"Columns 'Distance' or 'Time' not found. Cannot calculate Efficiency Score.\")\n",
        "\n",
        "# Sales Seasonality Analysis\n",
        "# Step 1: Ensure 'Date' and 'Sales' columns exist\n",
        "if 'Date' in df.columns and 'Sales' in df.columns:\n",
        "    # Step 2: Set the figure size for the plot\n",
        "    plt.figure(figsize=(12, 6))  # Create a figure with a specific size (12x6 inches)\n",
        "\n",
        "    # Step 3: Create a boxplot to visualize sales seasonality by month\n",
        "    sns.boxplot(x=df['Date'].dt.month, y=df['Sales'])  # x-axis: Month, y-axis: Sales\n",
        "\n",
        "    # Step 4: Add a title to the plot\n",
        "    plt.title(\"Sales Seasonality by Month\")  # Set the title of the plot\n",
        "\n",
        "    # Step 5: Display the plot\n",
        "    plt.show()  # Show the plot\n",
        "else:\n",
        "    print(\"Columns 'Date' or 'Sales' not found. Cannot perform Sales Seasonality Analysis.\")"
      ],
      "metadata": {
        "id": "-SbmV9nQ-zG4"
      },
      "execution_count": null,
      "outputs": []
    },
    {
      "cell_type": "code",
      "source": [
        "# Customer Segmentation using K-Means Clustering\n",
        "\n",
        "# Step 1: Check if 'Customer_ID', 'Sales', and 'Order_ID' columns exist\n",
        "if 'Customer_ID' in df.columns and 'Sales' in df.columns and 'Order_ID' in df.columns:\n",
        "    # Step 2: Aggregate sales and order count per customer\n",
        "    customer_data = df.groupby('Customer_ID').agg({'Sales': 'sum', 'Order_ID': 'count'}).reset_index()  # Aggregate sales and orders per customer\n",
        "\n",
        "    # Step 3: Check if the aggregated data has valid values\n",
        "    if not customer_data.empty:\n",
        "        # Step 4: Define the number of clusters (e.g., 3 customer segments)\n",
        "        kmeans = KMeans(n_clusters=3, random_state=42)  # Initialize K-Means with 3 clusters\n",
        "\n",
        "        # Step 5: Apply K-Means clustering to the aggregated data\n",
        "        customer_data['Cluster'] = kmeans.fit_predict(customer_data[['Sales', 'Order_ID']])  # Assign clusters\n",
        "\n",
        "        # Step 6: Visualize the customer segments using a scatter plot\n",
        "        plt.figure(figsize=(10, 6))  # Set the figure size\n",
        "        sns.scatterplot(data=customer_data, x='Sales', y='Order_ID', hue='Cluster', palette='viridis')  # Create scatter plot\n",
        "        plt.title(\"Customer Segmentation\")  # Add a title\n",
        "        plt.xlabel(\"Total Sales\")  # Label for x-axis\n",
        "        plt.ylabel(\"Number of Orders\")  # Label for y-axis\n",
        "        plt.show()  # Display the plot\n",
        "    else:\n",
        "        print(\"No data available for clustering. Please check the input data.\")\n",
        "else:\n",
        "    print(\"Required columns ('Customer_ID', 'Sales', or 'Order_ID') not found. Cannot perform customer segmentation.\")"
      ],
      "metadata": {
        "id": "Jm2WbUGqBOFj"
      },
      "execution_count": null,
      "outputs": []
    },
    {
      "cell_type": "code",
      "source": [
        "df['Shipment_Delay_Days'] = df['Shipment_Delay'] / 1440  # Convert minutes to days\n",
        "sns.histplot(df['Shipment_Delay_Days'], bins=30, kde=True, color='blue')\n",
        "plt.xlabel(\"Shipment Delay in Days\")\n",
        "plt.title(\"Shipment Delay Distribution\")\n",
        "plt.show()\n"
      ],
      "metadata": {
        "id": "UU_WafRXBZXh"
      },
      "execution_count": null,
      "outputs": []
    },
    {
      "cell_type": "code",
      "source": [
        "late_deliveries = df[df['Shipment_Delay'] > 0]\n",
        "print(f\"Total Late Deliveries: {len(late_deliveries)}\")\n",
        "df['Delivery_Status_Label'] = df['Shipment_Delay'].apply(lambda x: 'Late' if x > 0 else 'On-Time')\n",
        "sns.countplot(data=df, x='Delivery_Status_Label', palette='coolwarm')\n",
        "plt.title(\"Late vs On-Time Deliveries\")\n",
        "plt.show()\n"
      ],
      "metadata": {
        "id": "rArky7hAJYPS"
      },
      "execution_count": null,
      "outputs": []
    },
    {
      "cell_type": "code",
      "source": [
        "# Sentiment Analysis Placeholder (For Customer Reviews)\n",
        "if 'Review_Text' in df.columns:\n",
        "    print(\"Sentiment Analysis can be applied on Review_Text column\")  # Check if sentiment analysis is possible"
      ],
      "metadata": {
        "id": "rQyaJcpHBkx1"
      },
      "execution_count": null,
      "outputs": []
    }
  ]
}